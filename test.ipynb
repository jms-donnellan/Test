import numpy as np
from matplotlib import pyplot as plt
from astroML.time_series import  lomb_scargle, lomb_scargle_BIC
from random import SystemRandom

from astroML.plotting import setup_text_plots
setup_text_plots(fontsize=8, usetex=False)

#import my own library 
import sys
sys.path.append('/Users/noelin/Documents/python_library/')
from time_series_tools import LS_bootstrap_err_est, LS_window_white_noise, LS_null_hypotesis, LS_bootstrap_sig, LS__semi_param_bootstrap_err_est, LS_chi2
